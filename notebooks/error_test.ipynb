{
 "cells": [
  {
   "cell_type": "code",
   "execution_count": 1,
   "id": "2b16572e",
   "metadata": {},
   "outputs": [],
   "source": [
    "import qutip as qt\n",
    "import numpy as np\n",
    "\n",
    "# Tracking info of simulations \n",
    "import tqdm\n",
    "import time\n",
    "import warnings\n",
    "\n",
    "#Saving data\n",
    "import pandas as pd\n",
    "import json\n",
    "import os\n",
    "\n",
    "import matplotlib.pyplot as plt\n",
    "from IPython.display import Image\n",
    "from matplotlib.gridspec import GridSpec"
   ]
  },
  {
   "cell_type": "code",
   "execution_count": 2,
   "id": "fb415222",
   "metadata": {},
   "outputs": [],
   "source": [
    "import sys\n",
    "sys.path.append('/Users/omichel/Desktop/qilimanjaro/projects/quantum_transport/quantum_state_transfer/src')\n",
    "\n",
    "import model_building as md\n",
    "import Hamiltonian as Ham\n",
    "import dynamics as dyn\n",
    "import data_handling as dh\n",
    "import plots as plots\n",
    "import errors\n"
   ]
  },
  {
   "cell_type": "code",
   "execution_count": 3,
   "id": "5aae6763",
   "metadata": {},
   "outputs": [],
   "source": [
    "# Define parameters\n",
    "N=10\n",
    "lmd = 0.02272\n",
    "J = 0.5\n",
    "state_dictionary = {\"1\":1}\n",
    "\n",
    "ti = 0\n",
    "tf = 150\n",
    "Nsteps = 500"
   ]
  },
  {
   "cell_type": "code",
   "execution_count": 4,
   "id": "85508230",
   "metadata": {},
   "outputs": [],
   "source": [
    "# Define intial and target systems\n",
    "initial_state, target_state, register_size = md.create_initial_and_target(state_dictionary, N)"
   ]
  },
  {
   "cell_type": "code",
   "execution_count": 5,
   "id": "b26d3a6a",
   "metadata": {},
   "outputs": [],
   "source": [
    "#Create initial Hamiltonians without errors\n",
    "H_t, H_r = md.build_hamiltonians(N, lmd, J, register_size)"
   ]
  },
  {
   "cell_type": "code",
   "execution_count": 6,
   "id": "80b61179",
   "metadata": {},
   "outputs": [],
   "source": [
    "# Calibrate chain under ideal circumstances\n",
    "transport_steps, transport_time = dyn.chain_calibration(initial_state, H_t, ti, tf, Nsteps)"
   ]
  },
  {
   "cell_type": "code",
   "execution_count": null,
   "id": "f5ce2759",
   "metadata": {},
   "outputs": [],
   "source": [
    "# test that algorithm works well without errors\n",
    "fidelity, magnetizations = dyn.TwoStepAlgorithm(initial_state, target_state, H_t, H_r, ti, transport_time, transport_steps, factor = 1.12)"
   ]
  },
  {
   "cell_type": "code",
   "execution_count": null,
   "id": "d361e2f7",
   "metadata": {},
   "outputs": [],
   "source": [
    "#Test plots\n",
    "plots.plot_fidelity(fidelity, N)"
   ]
  },
  {
   "cell_type": "code",
   "execution_count": null,
   "id": "059d6224",
   "metadata": {},
   "outputs": [],
   "source": [
    "#Test plots\n",
    "plots.plot_z_expectations(magnetizations, N)"
   ]
  },
  {
   "cell_type": "code",
   "execution_count": null,
   "id": "a5a5e033",
   "metadata": {},
   "outputs": [],
   "source": []
  }
 ],
 "metadata": {
  "kernelspec": {
   "display_name": ".venv",
   "language": "python",
   "name": "python3"
  },
  "language_info": {
   "codemirror_mode": {
    "name": "ipython",
    "version": 3
   },
   "file_extension": ".py",
   "mimetype": "text/x-python",
   "name": "python",
   "nbconvert_exporter": "python",
   "pygments_lexer": "ipython3",
   "version": "3.9.6"
  }
 },
 "nbformat": 4,
 "nbformat_minor": 5
}
