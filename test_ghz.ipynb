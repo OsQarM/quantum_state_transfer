{
 "cells": [
  {
   "cell_type": "code",
   "execution_count": 1,
   "id": "b8abc0ba",
   "metadata": {},
   "outputs": [],
   "source": [
    "import qutip as qt\n",
    "import numpy as np\n",
    "\n",
    "# Tracking info of simulations \n",
    "import tqdm\n",
    "import time\n",
    "import warnings\n",
    "\n",
    "#Saving data\n",
    "import pandas as pd\n",
    "import json\n",
    "import os\n",
    "\n",
    "import matplotlib.pyplot as plt\n",
    "from IPython.display import Image\n",
    "from matplotlib.gridspec import GridSpec"
   ]
  },
  {
   "cell_type": "code",
   "execution_count": 2,
   "id": "aacdc22e",
   "metadata": {},
   "outputs": [],
   "source": [
    "import model_building as md\n",
    "import Hamiltonian as Ham\n",
    "import dynamics as dyn\n",
    "import data_handling as dh\n",
    "import plots as plots\n"
   ]
  },
  {
   "cell_type": "code",
   "execution_count": 3,
   "id": "90cad2c4",
   "metadata": {},
   "outputs": [],
   "source": [
    "def initialize_system(state_dictionary, N):\n",
    "    initial_state = md.crate_domain_wall_state(state_dictionary, register='Alice')\n",
    "    final_state   = md.crate_domain_wall_state(state_dictionary, register='Bob')\n",
    "\n",
    "    initial_chain = md.initialize_general_system(N, initial_state, register='Alice')\n",
    "    final_chain   = md.initialize_general_system(N, final_state, register='Bob')\n",
    "\n",
    "    register_size = len(initial_state.dims[0])\n",
    "    \n",
    "    return initial_chain, final_chain, register_size\n",
    "\n",
    "def build_hamiltonians(N, lmd, J, reg_size):\n",
    "\n",
    "    H_transport = Ham.Hamiltonian(system_size = N,\n",
    "                        mode = \"forward\",\n",
    "                        lambda_factor = lmd,\n",
    "                        global_J = J\n",
    "                        )\n",
    "    H_reset     = Ham.Hamiltonian(system_size = N,\n",
    "                        mode = \"backward\",\n",
    "                        lambda_factor = lmd,\n",
    "                        register_size = reg_size,\n",
    "                        global_J = J\n",
    "                        )\n",
    "    \n",
    "    return H_transport, H_reset\n",
    "\n",
    "\n",
    "def calculate_logs(x_data, y_data):\n",
    "    log_axis = [np.log(i) for i in x_data]\n",
    "    log_error = [np.log(1-i) for i in y_data]\n",
    "    return log_axis, log_error"
   ]
  },
  {
   "cell_type": "code",
   "execution_count": 6,
   "id": "8c6a532b",
   "metadata": {},
   "outputs": [
    {
     "name": "stderr",
     "output_type": "stream",
     "text": [
      "100%|██████████| 499/499 [00:00<00:00, 6781.64it/s]\n",
      "100%|██████████| 475/475 [00:00<00:00, 8510.51it/s]\n",
      "100%|██████████| 532/532 [00:00<00:00, 9853.83it/s]\n"
     ]
    }
   ],
   "source": [
    "#Constant simulation parameters\n",
    "N = 9\n",
    "lmd = 0.02272\n",
    "ti = 0\n",
    "tf = 150\n",
    "step_number = 500\n",
    "\n",
    "ratios = range(1,21) # will be used to calculate J accordingly\n",
    "J = 0.5\n",
    "\n",
    "# Generate initial and target statess\n",
    "# state_dictionary = {\"1\":1}\n",
    "# state_dictionary = {\"1\":1, \"0\":1}\n",
    "# state_dictionary = {\"11\":1, \"00\":1}\n",
    "state_dictionary = {\"111\":1, \"000\":1}\n",
    "\n",
    "initial_system, final_system, register_size = initialize_system(state_dictionary, N)\n",
    "\n",
    "\n",
    "H_transport, H_reset = build_hamiltonians(N, lmd, J, register_size)\n",
    "total_full_fidelity, magnetizations = dyn.TwoStepAlgorithm(initial_system, final_system, H_transport, H_reset, ti, tf, step_number, AutoSwitch=True)\n",
    "\n"
   ]
  },
  {
   "cell_type": "code",
   "execution_count": 7,
   "id": "9443e367",
   "metadata": {},
   "outputs": [
    {
     "ename": "TypeError",
     "evalue": "plot_test_z_expectations() missing 1 required positional argument: 'filepath'",
     "output_type": "error",
     "traceback": [
      "\u001b[0;31m---------------------------------------------------------------------------\u001b[0m",
      "\u001b[0;31mTypeError\u001b[0m                                 Traceback (most recent call last)",
      "Cell \u001b[0;32mIn[7], line 1\u001b[0m\n\u001b[0;32m----> 1\u001b[0m \u001b[43mplots\u001b[49m\u001b[38;5;241;43m.\u001b[39;49m\u001b[43mplot_test_z_expectations\u001b[49m\u001b[43m(\u001b[49m\u001b[43mmagnetizations\u001b[49m\u001b[43m,\u001b[49m\u001b[43m \u001b[49m\u001b[43mN\u001b[49m\u001b[43m)\u001b[49m\n",
      "\u001b[0;31mTypeError\u001b[0m: plot_test_z_expectations() missing 1 required positional argument: 'filepath'"
     ]
    }
   ],
   "source": [
    "plots.plot_test_z_expectations(magnetizations, N)"
   ]
  },
  {
   "cell_type": "code",
   "execution_count": null,
   "id": "e94d670c",
   "metadata": {},
   "outputs": [],
   "source": [
    "# ratios = range(1,21) # will be used to calculate J accordingly\n",
    "# maximum_fidelities = []\n",
    "# for ratio in ratios:\n",
    "#    print(ratio)\n",
    "#    J = ratio*lmd\n",
    "#    H_transport, H_reset = build_hamiltonians(N, lmd, J, register_size)\n",
    "#    total_full_fidelity, magnetizations = dyn.TwoStepAlgorithm(initial_system, final_system, H_transport, H_reset, ti, tf, step_number, AutoSwitch=True)\n",
    "#    maximum_fidelities.append(max(total_full_fidelity))\n",
    "\n",
    "\n"
   ]
  },
  {
   "cell_type": "code",
   "execution_count": null,
   "id": "69f2cb4e",
   "metadata": {},
   "outputs": [],
   "source": [
    "hello"
   ]
  }
 ],
 "metadata": {
  "kernelspec": {
   "display_name": ".venv",
   "language": "python",
   "name": "python3"
  },
  "language_info": {
   "codemirror_mode": {
    "name": "ipython",
    "version": 3
   },
   "file_extension": ".py",
   "mimetype": "text/x-python",
   "name": "python",
   "nbconvert_exporter": "python",
   "pygments_lexer": "ipython3",
   "version": "3.9.6"
  }
 },
 "nbformat": 4,
 "nbformat_minor": 5
}
