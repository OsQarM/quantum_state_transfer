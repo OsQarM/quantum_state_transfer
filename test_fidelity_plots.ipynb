{
 "cells": [
  {
   "cell_type": "code",
   "execution_count": 1,
   "id": "1e87b1e1",
   "metadata": {},
   "outputs": [],
   "source": [
    "import qutip as qt\n",
    "import numpy as np\n",
    "\n",
    "# Tracking info of simulations \n",
    "import tqdm\n",
    "import time\n",
    "import warnings\n",
    "\n",
    "#Saving data\n",
    "import pandas as pd\n",
    "import json\n",
    "import os\n",
    "\n",
    "import matplotlib.pyplot as plt\n",
    "from IPython.display import Image\n",
    "from matplotlib.gridspec import GridSpec\n",
    "\n",
    "import model_building as md\n",
    "import Hamiltonian as Ham\n",
    "import dynamics as dyn\n",
    "import data_handling as dh\n",
    "import plots as plots\n",
    "\n"
   ]
  },
  {
   "cell_type": "code",
   "execution_count": 4,
   "id": "8f1395d5",
   "metadata": {},
   "outputs": [],
   "source": [
    "def initialize_system(state_dictionary, N):\n",
    "    initial_state = md.crate_domain_wall_state(state_dictionary, register='Alice')\n",
    "    final_state   = md.crate_domain_wall_state(state_dictionary, register='Bob')\n",
    "\n",
    "    initial_chain = md.initialize_general_system(N, initial_state, register='Alice')\n",
    "    final_chain   = md.initialize_general_system(N, final_state, register='Bob')\n",
    "\n",
    "    register_size = len(initial_state.dims[0])\n",
    "    \n",
    "    return initial_chain, final_chain, register_size\n",
    "\n",
    "def build_hamiltonians(N, lmd, J, reg_size):\n",
    "\n",
    "    H_transport = Ham.Hamiltonian(system_size = N,\n",
    "                        mode = \"forward\",\n",
    "                        lambda_factor = lmd,\n",
    "                        global_J = J\n",
    "                        )\n",
    "    H_reset     = Ham.Hamiltonian(system_size = N,\n",
    "                        mode = \"backward\",\n",
    "                        lambda_factor = lmd,\n",
    "                        register_size = reg_size,\n",
    "                        global_J = J\n",
    "                        )\n",
    "    \n",
    "    return H_transport, H_reset"
   ]
  },
  {
   "cell_type": "code",
   "execution_count": null,
   "id": "3e593203",
   "metadata": {},
   "outputs": [],
   "source": []
  },
  {
   "cell_type": "code",
   "execution_count": null,
   "id": "96ca5d43",
   "metadata": {},
   "outputs": [],
   "source": []
  },
  {
   "cell_type": "code",
   "execution_count": null,
   "id": "67ca4527",
   "metadata": {},
   "outputs": [],
   "source": []
  }
 ],
 "metadata": {
  "kernelspec": {
   "display_name": ".venv",
   "language": "python",
   "name": "python3"
  },
  "language_info": {
   "codemirror_mode": {
    "name": "ipython",
    "version": 3
   },
   "file_extension": ".py",
   "mimetype": "text/x-python",
   "name": "python",
   "nbconvert_exporter": "python",
   "pygments_lexer": "ipython3",
   "version": "3.9.6"
  }
 },
 "nbformat": 4,
 "nbformat_minor": 5
}
