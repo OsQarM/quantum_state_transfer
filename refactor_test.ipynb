{
 "cells": [
  {
   "cell_type": "code",
   "execution_count": 1,
   "id": "8bb5979a",
   "metadata": {},
   "outputs": [],
   "source": [
    "import qutip as qt\n",
    "import numpy as np\n",
    "\n",
    "# Tracking info of simulations\n",
    "import tqdm\n",
    "import time\n",
    "import warnings\n",
    "\n",
    "#Saving data\n",
    "import pandas as pd\n",
    "import json\n",
    "import os"
   ]
  },
  {
   "cell_type": "code",
   "execution_count": 2,
   "id": "f1236da4",
   "metadata": {},
   "outputs": [],
   "source": [
    "from model_building import initialize_1_qubit_system, crate_domain_wall_state, initialize_general_system\n",
    "from Hamiltonian import Hamiltonian"
   ]
  },
  {
   "cell_type": "code",
   "execution_count": 3,
   "id": "5fd0c27c",
   "metadata": {},
   "outputs": [],
   "source": [
    "# Generate standard encoding state\n",
    "size = 13\n",
    "alpha = 0.5\n",
    "beta = 0.5\n",
    "register = 'Bob'\n",
    "\n",
    "psi_0 = initialize_1_qubit_system(size, alpha, beta, register)"
   ]
  },
  {
   "cell_type": "code",
   "execution_count": 6,
   "id": "9e56ccf6",
   "metadata": {},
   "outputs": [],
   "source": [
    "#generate domain wall state and domain wall chain\n",
    "dictionary ={\"001\":0.4,\"101\":0.2,\"111\":0.6,\"110\":0.35}\n",
    "dictionary= {\"1\":1}\n",
    "register = 'Alice'\n",
    "size = 13\n",
    "initial_state = crate_domain_wall_state(dictionary, register)\n",
    "final_state = crate_domain_wall_state(dictionary, register='Bob')\n",
    "\n",
    "initial_chain = initialize_general_system(size, initial_state, register='Alice')\n",
    "final_chain = initialize_general_system(size, final_state, register='Bob')"
   ]
  },
  {
   "cell_type": "code",
   "execution_count": null,
   "id": "61570edf",
   "metadata": {},
   "outputs": [],
   "source": [
    "size = 13\n",
    "l = 0.02272\n",
    "J = 0.5\n",
    "reg_size = len(initial_state.dims[0])\n",
    "\n",
    "standard_H = Hamiltonian(system_size = size,\n",
    "                         mode = \"standard\",\n",
    "                         lambda_factor = l,\n",
    "                         register_size = reg_size,\n",
    "                         global_J = J\n",
    "                         )"
   ]
  }
 ],
 "metadata": {
  "kernelspec": {
   "display_name": "TFM",
   "language": "python",
   "name": "python3"
  },
  "language_info": {
   "codemirror_mode": {
    "name": "ipython",
    "version": 3
   },
   "file_extension": ".py",
   "mimetype": "text/x-python",
   "name": "python",
   "nbconvert_exporter": "python",
   "pygments_lexer": "ipython3",
   "version": "3.12.9"
  }
 },
 "nbformat": 4,
 "nbformat_minor": 5
}
