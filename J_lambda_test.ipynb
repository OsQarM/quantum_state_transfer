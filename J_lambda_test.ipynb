{
 "cells": [
  {
   "cell_type": "code",
   "execution_count": 1,
   "id": "260b099c",
   "metadata": {},
   "outputs": [],
   "source": [
    "import qutip as qt\n",
    "import numpy as np\n",
    "\n",
    "# Tracking info of simulations \n",
    "import tqdm\n",
    "import time\n",
    "import warnings\n",
    "\n",
    "#Saving data\n",
    "import pandas as pd\n",
    "import json\n",
    "import os\n",
    "\n",
    "import matplotlib.pyplot as plt\n",
    "from IPython.display import Image\n",
    "from matplotlib.gridspec import GridSpec"
   ]
  },
  {
   "cell_type": "code",
   "execution_count": 2,
   "id": "3f5b670f",
   "metadata": {},
   "outputs": [],
   "source": [
    "import model_building as md\n",
    "import Hamiltonian as Ham\n",
    "import dynamics as dyn\n",
    "import data_handling as dh\n",
    "import plots as plots\n"
   ]
  },
  {
   "cell_type": "markdown",
   "id": "50d1a418",
   "metadata": {},
   "source": [
    "# PROTOCOL TEST"
   ]
  },
  {
   "cell_type": "code",
   "execution_count": 3,
   "id": "c0f54b3a",
   "metadata": {},
   "outputs": [],
   "source": [
    "#Parameters\n",
    "\n",
    "N=10\n",
    "lmd = 0.02272\n",
    "J = 0.5\n",
    "state_dictionary = {\"001\":1}\n",
    "state_dictionary = {\"1\":1}\n",
    "\n",
    "\n",
    "ti = 0\n",
    "tf = 150\n",
    "\n",
    "Nsteps = 500"
   ]
  },
  {
   "cell_type": "code",
   "execution_count": 4,
   "id": "eb36a0c8",
   "metadata": {},
   "outputs": [],
   "source": [
    "\n",
    "initial_state = md.crate_domain_wall_state(state_dictionary, register='Alice')\n",
    "final_state   = md.crate_domain_wall_state(state_dictionary, register='Bob')\n",
    "\n",
    "initial_chain = md.initialize_general_system(N, initial_state, register='Alice')\n",
    "final_chain   = md.initialize_general_system(N, final_state, register='Bob')"
   ]
  },
  {
   "cell_type": "code",
   "execution_count": 5,
   "id": "206d8330",
   "metadata": {},
   "outputs": [],
   "source": [
    "#Create Hamiltonians\n",
    "register_size = len(initial_state.dims[0])\n",
    "\n",
    "\n",
    "H_transport = Ham.Hamiltonian(system_size = N,\n",
    "                     mode = \"forward\",\n",
    "                     lambda_factor = lmd,\n",
    "                     global_J = J\n",
    "                     )\n",
    "H_reset     = Ham.Hamiltonian(system_size = N,\n",
    "                     mode = \"backward\",\n",
    "                     lambda_factor = lmd,\n",
    "                     register_size = register_size,\n",
    "                     global_J = J\n",
    "                     )"
   ]
  },
  {
   "cell_type": "code",
   "execution_count": 6,
   "id": "28b51491",
   "metadata": {},
   "outputs": [
    {
     "name": "stderr",
     "output_type": "stream",
     "text": [
      "/Users/omichel/Desktop/qilimanjaro/projects/quantum_transport/.venv/lib/python3.9/site-packages/tqdm/auto.py:21: TqdmWarning: IProgress not found. Please update jupyter and ipywidgets. See https://ipywidgets.readthedocs.io/en/stable/user_install.html\n",
      "  from .autonotebook import tqdm as notebook_tqdm\n"
     ]
    },
    {
     "name": "stderr",
     "output_type": "stream",
     "text": [
      "100%|██████████| 499/499 [00:00<00:00, 4770.43it/s]\n",
      "100%|██████████| 459/459 [00:00<00:00, 5444.51it/s]\n",
      "100%|██████████| 514/514 [00:00<00:00, 4776.42it/s]\n"
     ]
    }
   ],
   "source": [
    "#Algorithm\n",
    "\n",
    "total_full_fidelity, magnetizations = dyn.TwoStepAlgorithm(initial_chain, final_chain, H_transport, H_reset, ti, tf, Nsteps, AutoSwitch=True)"
   ]
  },
  {
   "cell_type": "code",
   "execution_count": 7,
   "id": "2b1d6f18",
   "metadata": {},
   "outputs": [],
   "source": [
    "f_filename = dh.create_data_filename(N, J, lmd, state_dictionary, base_name='fidelity')\n",
    "z_filename = dh.create_data_filename(N, J, lmd, state_dictionary, base_name='z_expectation')\n",
    "\n",
    "f_data_directory = 'data_files/fidelity/'\n",
    "z_data_directory = 'data_files/z_expectation/'\n",
    "\n",
    "f_plot_directory = 'figures/fidelity/'\n",
    "z_plot_directory = 'figures/z_expectation/' \n"
   ]
  },
  {
   "cell_type": "code",
   "execution_count": 8,
   "id": "b677cdb5",
   "metadata": {},
   "outputs": [],
   "source": [
    "dh.save_numpy_array(total_full_fidelity, f'{f_data_directory}{f_filename}')\n",
    "dh.save_numpy_array(magnetizations, f'{z_data_directory}{z_filename}')"
   ]
  },
  {
   "cell_type": "code",
   "execution_count": null,
   "id": "3a976e10",
   "metadata": {},
   "outputs": [],
   "source": [
    "plots.plot_test_fidelity(total_full_fidelity, N, f'{f_plot_directory}{f_filename}')"
   ]
  },
  {
   "cell_type": "code",
   "execution_count": null,
   "id": "e90aeecf",
   "metadata": {},
   "outputs": [],
   "source": [
    "plots.plot_test_z_expectations(magnetizations, N, f'{z_plot_directory}{z_filename}')"
   ]
  },
  {
   "cell_type": "markdown",
   "id": "a1f06f35",
   "metadata": {},
   "source": [
    "# J VS LAMBDA TEST"
   ]
  },
  {
   "cell_type": "code",
   "execution_count": 3,
   "id": "6651a062",
   "metadata": {},
   "outputs": [],
   "source": [
    "def initialize_system(state_dictionary, N):\n",
    "    initial_state = md.crate_domain_wall_state(state_dictionary, register='Alice')\n",
    "    final_state   = md.crate_domain_wall_state(state_dictionary, register='Bob')\n",
    "\n",
    "    initial_chain = md.initialize_general_system(N, initial_state, register='Alice')\n",
    "    final_chain   = md.initialize_general_system(N, final_state, register='Bob')\n",
    "\n",
    "    register_size = len(initial_state.dims[0])\n",
    "    \n",
    "    return initial_chain, final_chain, register_size\n",
    "\n",
    "def build_hamiltonians(N, lmd, J, reg_size):\n",
    "\n",
    "    H_transport = Ham.Hamiltonian(system_size = N,\n",
    "                        mode = \"forward\",\n",
    "                        lambda_factor = lmd,\n",
    "                        global_J = J\n",
    "                        )\n",
    "    H_reset     = Ham.Hamiltonian(system_size = N,\n",
    "                        mode = \"backward\",\n",
    "                        lambda_factor = lmd,\n",
    "                        register_size = reg_size,\n",
    "                        global_J = J\n",
    "                        )\n",
    "    \n",
    "    return H_transport, H_reset\n",
    "\n",
    "\n",
    "def calculate_logs(x_data, y_data):\n",
    "    log_axis = [np.log(i) for i in x_data]\n",
    "    log_error = [np.log(1-i) for i in y_data]\n",
    "    return log_axis, log_error"
   ]
  },
  {
   "cell_type": "code",
   "execution_count": 52,
   "id": "cac97c1f",
   "metadata": {},
   "outputs": [
    {
     "name": "stdout",
     "output_type": "stream",
     "text": [
      "1\n"
     ]
    },
    {
     "name": "stderr",
     "output_type": "stream",
     "text": [
      "100%|██████████| 499/499 [00:00<00:00, 20063.25it/s]\n",
      "100%|██████████| 498/498 [00:00<00:00, 13667.06it/s]\n",
      "100%|██████████| 557/557 [00:00<00:00, 31461.80it/s]\n"
     ]
    },
    {
     "name": "stdout",
     "output_type": "stream",
     "text": [
      "2\n"
     ]
    },
    {
     "name": "stderr",
     "output_type": "stream",
     "text": [
      "100%|██████████| 499/499 [00:00<00:00, 27375.74it/s]\n",
      "100%|██████████| 498/498 [00:00<00:00, 27682.24it/s]\n",
      "100%|██████████| 557/557 [00:00<00:00, 26974.73it/s]\n"
     ]
    },
    {
     "name": "stdout",
     "output_type": "stream",
     "text": [
      "3\n"
     ]
    },
    {
     "name": "stderr",
     "output_type": "stream",
     "text": [
      "100%|██████████| 499/499 [00:00<00:00, 24465.59it/s]\n",
      "100%|██████████| 470/470 [00:00<00:00, 25380.42it/s]\n",
      "100%|██████████| 526/526 [00:00<00:00, 26707.23it/s]\n"
     ]
    },
    {
     "name": "stdout",
     "output_type": "stream",
     "text": [
      "4\n"
     ]
    },
    {
     "name": "stderr",
     "output_type": "stream",
     "text": [
      "100%|██████████| 499/499 [00:00<00:00, 23093.43it/s]\n",
      "100%|██████████| 468/468 [00:00<00:00, 24098.98it/s]\n",
      "100%|██████████| 524/524 [00:00<00:00, 24272.65it/s]\n"
     ]
    },
    {
     "name": "stdout",
     "output_type": "stream",
     "text": [
      "5\n"
     ]
    },
    {
     "name": "stderr",
     "output_type": "stream",
     "text": [
      "100%|██████████| 499/499 [00:00<00:00, 19756.07it/s]\n",
      "100%|██████████| 466/466 [00:00<00:00, 22500.18it/s]\n",
      "100%|██████████| 522/522 [00:00<00:00, 21948.48it/s]\n"
     ]
    },
    {
     "name": "stdout",
     "output_type": "stream",
     "text": [
      "6\n"
     ]
    },
    {
     "name": "stderr",
     "output_type": "stream",
     "text": [
      "100%|██████████| 499/499 [00:00<00:00, 17094.86it/s]\n",
      "100%|██████████| 464/464 [00:00<00:00, 20776.07it/s]\n",
      "100%|██████████| 519/519 [00:00<00:00, 19803.17it/s]\n"
     ]
    },
    {
     "name": "stdout",
     "output_type": "stream",
     "text": [
      "7\n"
     ]
    },
    {
     "name": "stderr",
     "output_type": "stream",
     "text": [
      "100%|██████████| 499/499 [00:00<00:00, 19896.17it/s]\n",
      "100%|██████████| 462/462 [00:00<00:00, 18046.91it/s]\n",
      "100%|██████████| 517/517 [00:00<00:00, 17745.13it/s]\n"
     ]
    },
    {
     "name": "stdout",
     "output_type": "stream",
     "text": [
      "8\n"
     ]
    },
    {
     "name": "stderr",
     "output_type": "stream",
     "text": [
      "100%|██████████| 499/499 [00:00<00:00, 18698.31it/s]\n",
      "100%|██████████| 461/461 [00:00<00:00, 16135.30it/s]\n",
      "100%|██████████| 516/516 [00:00<00:00, 17313.12it/s]\n"
     ]
    },
    {
     "name": "stdout",
     "output_type": "stream",
     "text": [
      "9\n"
     ]
    },
    {
     "name": "stderr",
     "output_type": "stream",
     "text": [
      "100%|██████████| 499/499 [00:00<00:00, 16943.46it/s]\n",
      "100%|██████████| 460/460 [00:00<00:00, 16373.71it/s]\n",
      "100%|██████████| 515/515 [00:00<00:00, 12651.13it/s]\n"
     ]
    },
    {
     "name": "stdout",
     "output_type": "stream",
     "text": [
      "10\n"
     ]
    },
    {
     "name": "stderr",
     "output_type": "stream",
     "text": [
      "100%|██████████| 499/499 [00:00<00:00, 15785.07it/s]\n",
      "100%|██████████| 460/460 [00:00<00:00, 15616.94it/s]\n",
      "100%|██████████| 515/515 [00:00<00:00, 12902.78it/s]\n"
     ]
    },
    {
     "name": "stdout",
     "output_type": "stream",
     "text": [
      "11\n"
     ]
    },
    {
     "name": "stderr",
     "output_type": "stream",
     "text": [
      "100%|██████████| 499/499 [00:00<00:00, 14621.04it/s]\n",
      "100%|██████████| 460/460 [00:00<00:00, 15057.75it/s]\n",
      "100%|██████████| 515/515 [00:00<00:00, 15197.50it/s]\n"
     ]
    },
    {
     "name": "stdout",
     "output_type": "stream",
     "text": [
      "12\n"
     ]
    },
    {
     "name": "stderr",
     "output_type": "stream",
     "text": [
      "100%|██████████| 499/499 [00:00<00:00, 13171.46it/s]\n",
      "100%|██████████| 460/460 [00:00<00:00, 14082.34it/s]\n",
      "100%|██████████| 515/515 [00:00<00:00, 14110.80it/s]\n"
     ]
    },
    {
     "name": "stdout",
     "output_type": "stream",
     "text": [
      "13\n"
     ]
    },
    {
     "name": "stderr",
     "output_type": "stream",
     "text": [
      "100%|██████████| 499/499 [00:00<00:00, 12856.56it/s]\n",
      "100%|██████████| 459/459 [00:00<00:00, 13359.42it/s]\n",
      "100%|██████████| 514/514 [00:00<00:00, 13337.49it/s]\n"
     ]
    },
    {
     "name": "stdout",
     "output_type": "stream",
     "text": [
      "14\n"
     ]
    },
    {
     "name": "stderr",
     "output_type": "stream",
     "text": [
      "100%|██████████| 499/499 [00:00<00:00, 12590.73it/s]\n",
      "100%|██████████| 459/459 [00:00<00:00, 12493.90it/s]\n",
      "100%|██████████| 514/514 [00:00<00:00, 13059.96it/s]\n"
     ]
    },
    {
     "name": "stdout",
     "output_type": "stream",
     "text": [
      "15\n"
     ]
    },
    {
     "name": "stderr",
     "output_type": "stream",
     "text": [
      "100%|██████████| 499/499 [00:00<00:00, 12198.71it/s]\n",
      "100%|██████████| 459/459 [00:00<00:00, 10470.59it/s]\n",
      "100%|██████████| 514/514 [00:00<00:00, 12151.24it/s]"
     ]
    },
    {
     "name": "stdout",
     "output_type": "stream",
     "text": [
      "16"
     ]
    },
    {
     "name": "stderr",
     "output_type": "stream",
     "text": [
      "\n"
     ]
    },
    {
     "name": "stdout",
     "output_type": "stream",
     "text": [
      "\n"
     ]
    },
    {
     "name": "stderr",
     "output_type": "stream",
     "text": [
      "100%|██████████| 499/499 [00:00<00:00, 11465.94it/s]\n",
      "100%|██████████| 459/459 [00:00<00:00, 10747.18it/s]\n",
      "100%|██████████| 514/514 [00:00<00:00, 11780.40it/s]\n"
     ]
    },
    {
     "name": "stdout",
     "output_type": "stream",
     "text": [
      "17\n"
     ]
    },
    {
     "name": "stderr",
     "output_type": "stream",
     "text": [
      "100%|██████████| 499/499 [00:00<00:00, 10823.81it/s]\n",
      "100%|██████████| 459/459 [00:00<00:00, 10922.05it/s]\n",
      "100%|██████████| 514/514 [00:00<00:00, 10820.86it/s]\n"
     ]
    },
    {
     "name": "stdout",
     "output_type": "stream",
     "text": [
      "18\n"
     ]
    },
    {
     "name": "stderr",
     "output_type": "stream",
     "text": [
      "100%|██████████| 499/499 [00:00<00:00, 10608.70it/s]\n",
      "100%|██████████| 459/459 [00:00<00:00, 10395.84it/s]\n",
      "100%|██████████| 514/514 [00:00<00:00, 7839.08it/s]\n"
     ]
    },
    {
     "name": "stdout",
     "output_type": "stream",
     "text": [
      "19\n"
     ]
    },
    {
     "name": "stderr",
     "output_type": "stream",
     "text": [
      "100%|██████████| 499/499 [00:00<00:00, 10021.49it/s]\n",
      "100%|██████████| 459/459 [00:00<00:00, 9913.31it/s]\n",
      "100%|██████████| 514/514 [00:00<00:00, 10109.13it/s]\n"
     ]
    },
    {
     "name": "stdout",
     "output_type": "stream",
     "text": [
      "20\n"
     ]
    },
    {
     "name": "stderr",
     "output_type": "stream",
     "text": [
      "100%|██████████| 499/499 [00:00<00:00, 9430.41it/s]\n",
      "100%|██████████| 459/459 [00:00<00:00, 9637.59it/s]\n",
      "100%|██████████| 514/514 [00:00<00:00, 5534.08it/s]\n"
     ]
    }
   ],
   "source": [
    "#Constant simulation parameters\n",
    "N = 9\n",
    "lmd = 0.02272\n",
    "ti = 0\n",
    "tf = 150\n",
    "step_number = 500\n",
    "\n",
    "ratios = range(1,21) # will be used to calculate J accordingly\n",
    "\n",
    "\n",
    "# Generate initial and target statess\n",
    "state_dictionary = {\"1\":1}\n",
    "# state_dictionary = {\"1\":1, \"0\":1}\n",
    "# state_dictionary = {\"11\":1, \"00\":1}\n",
    "# state_dictionary = {\"111\":1, \"000\":1}\n",
    "\n",
    "initial_system, final_system, register_size = initialize_system(state_dictionary, N)\n",
    "maximum_fidelities = []\n",
    "\n",
    "for ratio in ratios:\n",
    "    print(ratio)\n",
    "    J = ratio*lmd\n",
    "    H_transport, H_reset = build_hamiltonians(N, lmd, J, register_size)\n",
    "    total_full_fidelity, magnetizations = dyn.TwoStepAlgorithm(initial_system, final_system, H_transport, H_reset, ti, tf, step_number, AutoSwitch=True)\n",
    "    maximum_fidelities.append(max(total_full_fidelity))"
   ]
  },
  {
   "cell_type": "code",
   "execution_count": 53,
   "id": "5a98e4e6",
   "metadata": {},
   "outputs": [
    {
     "name": "stdout",
     "output_type": "stream",
     "text": [
      "Data saved to data_files/ratios/ratio_N9_J20_L0.023_1_1_20250917_120238\n",
      "First 5 rows:\n",
      "Time_step\tFidelity\n",
      "1.0000\t0.1892\n",
      "2.0000\t0.5981\n",
      "3.0000\t0.8026\n",
      "4.0000\t0.8585\n",
      "5.0000\t0.9239\n"
     ]
    }
   ],
   "source": [
    "ratio_filename = dh.create_data_filename(N, f'{ratios[-1]}', lmd, state_dictionary, 'ratio')\n",
    "dh.save_plot_data_to_csv(ratios, maximum_fidelities, f'data_files/ratios/{ratio_filename}')"
   ]
  },
  {
   "cell_type": "code",
   "execution_count": 54,
   "id": "2d7fedc1",
   "metadata": {},
   "outputs": [],
   "source": [
    "ratios_1, values_1, recovered_filename = dh.read_plot_data_from_csv(f\"data_files/ratios/{ratio_filename}.csv\")\n",
    "\n",
    "log_ratios_1, log_errors_1 = calculate_logs(ratios_1, values_1)"
   ]
  },
  {
   "cell_type": "code",
   "execution_count": 55,
   "id": "bbab3026",
   "metadata": {},
   "outputs": [],
   "source": [
    "#Plot data the right way, -D \n",
    "#Compute for all data. -D\n",
    "#Plot all data together\n",
    "#Test with N = 9 -D"
   ]
  },
  {
   "cell_type": "code",
   "execution_count": 56,
   "id": "66a2e0c5",
   "metadata": {},
   "outputs": [
    {
     "data": {
      "text/plain": [
       "<Figure size 2400x1800 with 0 Axes>"
      ]
     },
     "metadata": {},
     "output_type": "display_data"
    },
    {
     "data": {
      "image/png": "[encoded data removed]",
      "text/plain": [
       "<Figure size 800x600 with 1 Axes>"
      ]
     },
     "metadata": {},
     "output_type": "display_data"
    }
   ],
   "source": [
    "plots.plot_ratios_trend_slope(x_data=log_ratios_1[2:], y_data=log_errors_1[2:],log_scale=False, filepath=f'figures/ratios/{recovered_filename}')"
   ]
  },
  {
   "cell_type": "markdown",
   "id": "b6e82a77",
   "metadata": {},
   "source": [
    "# J VS LAMBDA MAIN CALCULATION"
   ]
  },
  {
   "cell_type": "code",
   "execution_count": 4,
   "id": "27869b95",
   "metadata": {},
   "outputs": [
    {
     "name": "stderr",
     "output_type": "stream",
     "text": [
      "/Users/omichel/Desktop/qilimanjaro/projects/quantum_transport/.venv/lib/python3.9/site-packages/tqdm/auto.py:21: TqdmWarning: IProgress not found. Please update jupyter and ipywidgets. See https://ipywidgets.readthedocs.io/en/stable/user_install.html\n",
      "  from .autonotebook import tqdm as notebook_tqdm\n"
     ]
    },
    {
     "name": "stdout",
     "output_type": "stream",
     "text": [
      "1\n"
     ]
    },
    {
     "name": "stderr",
     "output_type": "stream",
     "text": [
      "100%|██████████| 499/499 [00:00<00:00, 23192.21it/s]\n",
      "100%|██████████| 498/498 [00:00<00:00, 21931.58it/s]\n",
      "100%|██████████| 557/557 [00:00<00:00, 30437.06it/s]\n"
     ]
    },
    {
     "name": "stdout",
     "output_type": "stream",
     "text": [
      "2\n"
     ]
    },
    {
     "name": "stderr",
     "output_type": "stream",
     "text": [
      "100%|██████████| 499/499 [00:00<00:00, 26680.23it/s]\n",
      "100%|██████████| 498/498 [00:00<00:00, 27120.11it/s]\n",
      "100%|██████████| 557/557 [00:00<00:00, 27925.59it/s]\n"
     ]
    },
    {
     "name": "stdout",
     "output_type": "stream",
     "text": [
      "3\n"
     ]
    },
    {
     "name": "stderr",
     "output_type": "stream",
     "text": [
      "100%|██████████| 499/499 [00:00<00:00, 25402.44it/s]\n",
      "100%|██████████| 470/470 [00:00<00:00, 26063.29it/s]\n",
      "100%|██████████| 526/526 [00:00<00:00, 25927.89it/s]\n"
     ]
    },
    {
     "name": "stdout",
     "output_type": "stream",
     "text": [
      "4\n"
     ]
    },
    {
     "name": "stderr",
     "output_type": "stream",
     "text": [
      "100%|██████████| 499/499 [00:00<00:00, 21713.43it/s]\n",
      "100%|██████████| 468/468 [00:00<00:00, 11126.99it/s]\n",
      "100%|██████████| 524/524 [00:00<00:00, 23834.37it/s]\n"
     ]
    },
    {
     "name": "stdout",
     "output_type": "stream",
     "text": [
      "5\n"
     ]
    },
    {
     "name": "stderr",
     "output_type": "stream",
     "text": [
      "100%|██████████| 499/499 [00:00<00:00, 22221.30it/s]\n",
      "100%|██████████| 466/466 [00:00<00:00, 23630.74it/s]\n",
      "100%|██████████| 522/522 [00:00<00:00, 21772.77it/s]\n"
     ]
    },
    {
     "name": "stdout",
     "output_type": "stream",
     "text": [
      "6\n"
     ]
    },
    {
     "name": "stderr",
     "output_type": "stream",
     "text": [
      "100%|██████████| 499/499 [00:00<00:00, 19644.07it/s]\n",
      "100%|██████████| 464/464 [00:00<00:00, 20572.05it/s]\n",
      "100%|██████████| 519/519 [00:00<00:00, 19676.26it/s]\n"
     ]
    },
    {
     "name": "stdout",
     "output_type": "stream",
     "text": [
      "7\n"
     ]
    },
    {
     "name": "stderr",
     "output_type": "stream",
     "text": [
      "100%|██████████| 499/499 [00:00<00:00, 19321.63it/s]\n",
      "100%|██████████| 462/462 [00:00<00:00, 19687.17it/s]\n",
      "100%|██████████| 517/517 [00:00<00:00, 18670.40it/s]\n"
     ]
    },
    {
     "name": "stdout",
     "output_type": "stream",
     "text": [
      "8\n"
     ]
    },
    {
     "name": "stderr",
     "output_type": "stream",
     "text": [
      "100%|██████████| 499/499 [00:00<00:00, 17570.60it/s]\n",
      "100%|██████████| 461/461 [00:00<00:00, 17727.34it/s]\n",
      "100%|██████████| 516/516 [00:00<00:00, 17273.74it/s]\n"
     ]
    },
    {
     "name": "stdout",
     "output_type": "stream",
     "text": [
      "9\n"
     ]
    },
    {
     "name": "stderr",
     "output_type": "stream",
     "text": [
      "100%|██████████| 499/499 [00:00<00:00, 16193.35it/s]\n",
      "100%|██████████| 460/460 [00:00<00:00, 16182.41it/s]\n",
      "100%|██████████| 515/515 [00:00<00:00, 16547.29it/s]\n"
     ]
    },
    {
     "name": "stdout",
     "output_type": "stream",
     "text": [
      "10\n"
     ]
    },
    {
     "name": "stderr",
     "output_type": "stream",
     "text": [
      "100%|██████████| 499/499 [00:00<00:00, 15265.14it/s]\n",
      "100%|██████████| 460/460 [00:00<00:00, 15179.06it/s]\n",
      "100%|██████████| 515/515 [00:00<00:00, 15304.10it/s]\n"
     ]
    },
    {
     "name": "stdout",
     "output_type": "stream",
     "text": [
      "11\n"
     ]
    },
    {
     "name": "stderr",
     "output_type": "stream",
     "text": [
      "100%|██████████| 499/499 [00:00<00:00, 13703.38it/s]\n",
      "100%|██████████| 460/460 [00:00<00:00, 14634.36it/s]\n",
      "100%|██████████| 515/515 [00:00<00:00, 14482.12it/s]\n"
     ]
    },
    {
     "name": "stdout",
     "output_type": "stream",
     "text": [
      "12\n"
     ]
    },
    {
     "name": "stderr",
     "output_type": "stream",
     "text": [
      "100%|██████████| 499/499 [00:00<00:00, 7760.23it/s]\n",
      "100%|██████████| 460/460 [00:00<00:00, 13715.74it/s]\n",
      "100%|██████████| 515/515 [00:00<00:00, 13776.37it/s]\n"
     ]
    },
    {
     "name": "stdout",
     "output_type": "stream",
     "text": [
      "13\n"
     ]
    },
    {
     "name": "stderr",
     "output_type": "stream",
     "text": [
      "100%|██████████| 499/499 [00:00<00:00, 12972.10it/s]\n",
      "100%|██████████| 459/459 [00:00<00:00, 12745.44it/s]\n",
      "100%|██████████| 514/514 [00:00<00:00, 13227.67it/s]\n"
     ]
    },
    {
     "name": "stdout",
     "output_type": "stream",
     "text": [
      "14\n"
     ]
    },
    {
     "name": "stderr",
     "output_type": "stream",
     "text": [
      "100%|██████████| 499/499 [00:00<00:00, 12205.61it/s]\n",
      "100%|██████████| 459/459 [00:00<00:00, 12028.65it/s]\n",
      "100%|██████████| 514/514 [00:00<00:00, 12209.87it/s]\n"
     ]
    },
    {
     "name": "stdout",
     "output_type": "stream",
     "text": [
      "15\n"
     ]
    },
    {
     "name": "stderr",
     "output_type": "stream",
     "text": [
      "100%|██████████| 499/499 [00:00<00:00, 11585.00it/s]\n",
      "100%|██████████| 459/459 [00:00<00:00, 11679.97it/s]\n",
      "100%|██████████| 514/514 [00:00<00:00, 11676.78it/s]\n"
     ]
    },
    {
     "name": "stdout",
     "output_type": "stream",
     "text": [
      "16\n"
     ]
    },
    {
     "name": "stderr",
     "output_type": "stream",
     "text": [
      "100%|██████████| 499/499 [00:00<00:00, 10742.76it/s]\n",
      "100%|██████████| 459/459 [00:00<00:00, 11234.02it/s]\n",
      "100%|██████████| 514/514 [00:00<00:00, 11592.21it/s]\n"
     ]
    },
    {
     "name": "stdout",
     "output_type": "stream",
     "text": [
      "17\n"
     ]
    },
    {
     "name": "stderr",
     "output_type": "stream",
     "text": [
      "100%|██████████| 499/499 [00:00<00:00, 10716.63it/s]\n",
      "100%|██████████| 459/459 [00:00<00:00, 10655.10it/s]\n",
      "100%|██████████| 514/514 [00:00<00:00, 11312.82it/s]\n"
     ]
    },
    {
     "name": "stdout",
     "output_type": "stream",
     "text": [
      "18\n"
     ]
    },
    {
     "name": "stderr",
     "output_type": "stream",
     "text": [
      "100%|██████████| 499/499 [00:00<00:00, 9962.05it/s]\n",
      "100%|██████████| 459/459 [00:00<00:00, 10125.95it/s]\n",
      "100%|██████████| 514/514 [00:00<00:00, 8004.49it/s]\n"
     ]
    },
    {
     "name": "stdout",
     "output_type": "stream",
     "text": [
      "19\n"
     ]
    },
    {
     "name": "stderr",
     "output_type": "stream",
     "text": [
      "100%|██████████| 499/499 [00:00<00:00, 9867.51it/s]\n",
      "100%|██████████| 459/459 [00:00<00:00, 9781.15it/s]\n",
      "100%|██████████| 514/514 [00:00<00:00, 10183.48it/s]\n"
     ]
    },
    {
     "name": "stdout",
     "output_type": "stream",
     "text": [
      "20\n"
     ]
    },
    {
     "name": "stderr",
     "output_type": "stream",
     "text": [
      "100%|██████████| 499/499 [00:00<00:00, 9371.63it/s]\n",
      "100%|██████████| 459/459 [00:00<00:00, 9674.35it/s]\n",
      "100%|██████████| 514/514 [00:00<00:00, 10004.09it/s]\n"
     ]
    },
    {
     "name": "stdout",
     "output_type": "stream",
     "text": [
      "Data saved to data_files/ratios/ratio_N9_J20_L0.023_1_1_20250917_121624\n",
      "First 5 rows:\n",
      "Time_step\tFidelity\n",
      "1.0000\t0.1892\n",
      "2.0000\t0.5981\n",
      "3.0000\t0.8026\n",
      "4.0000\t0.8585\n",
      "5.0000\t0.9239\n",
      "1\n"
     ]
    },
    {
     "name": "stderr",
     "output_type": "stream",
     "text": [
      "100%|██████████| 499/499 [00:00<00:00, 28732.45it/s]\n",
      "100%|██████████| 498/498 [00:00<00:00, 27410.51it/s]\n",
      "100%|██████████| 557/557 [00:00<00:00, 29833.83it/s]\n"
     ]
    },
    {
     "name": "stdout",
     "output_type": "stream",
     "text": [
      "2\n"
     ]
    },
    {
     "name": "stderr",
     "output_type": "stream",
     "text": [
      "100%|██████████| 499/499 [00:00<00:00, 25213.62it/s]\n",
      "100%|██████████| 498/498 [00:00<00:00, 26354.97it/s]\n",
      "100%|██████████| 557/557 [00:00<00:00, 26115.94it/s]\n"
     ]
    },
    {
     "name": "stdout",
     "output_type": "stream",
     "text": [
      "3\n"
     ]
    },
    {
     "name": "stderr",
     "output_type": "stream",
     "text": [
      "100%|██████████| 499/499 [00:00<00:00, 22784.21it/s]\n",
      "100%|██████████| 473/473 [00:00<00:00, 19414.65it/s]\n",
      "100%|██████████| 529/529 [00:00<00:00, 24350.70it/s]\n"
     ]
    },
    {
     "name": "stdout",
     "output_type": "stream",
     "text": [
      "4\n"
     ]
    },
    {
     "name": "stderr",
     "output_type": "stream",
     "text": [
      "100%|██████████| 499/499 [00:00<00:00, 20347.24it/s]\n",
      "100%|██████████| 474/474 [00:00<00:00, 19973.08it/s]\n",
      "100%|██████████| 531/531 [00:00<00:00, 21090.68it/s]\n"
     ]
    },
    {
     "name": "stdout",
     "output_type": "stream",
     "text": [
      "5\n"
     ]
    },
    {
     "name": "stderr",
     "output_type": "stream",
     "text": [
      "100%|██████████| 499/499 [00:00<00:00, 20305.98it/s]\n",
      "100%|██████████| 472/472 [00:00<00:00, 20566.72it/s]\n",
      "100%|██████████| 528/528 [00:00<00:00, 20807.97it/s]\n"
     ]
    },
    {
     "name": "stdout",
     "output_type": "stream",
     "text": [
      "6\n"
     ]
    },
    {
     "name": "stderr",
     "output_type": "stream",
     "text": [
      "100%|██████████| 499/499 [00:00<00:00, 18252.96it/s]\n",
      "100%|██████████| 457/457 [00:00<00:00, 18373.32it/s]\n",
      "100%|██████████| 511/511 [00:00<00:00, 9398.70it/s]\n"
     ]
    },
    {
     "name": "stdout",
     "output_type": "stream",
     "text": [
      "7\n"
     ]
    },
    {
     "name": "stderr",
     "output_type": "stream",
     "text": [
      "100%|██████████| 499/499 [00:00<00:00, 17696.44it/s]\n",
      "100%|██████████| 456/456 [00:00<00:00, 17098.49it/s]\n",
      "100%|██████████| 510/510 [00:00<00:00, 17832.33it/s]\n"
     ]
    },
    {
     "name": "stdout",
     "output_type": "stream",
     "text": [
      "8\n"
     ]
    },
    {
     "name": "stderr",
     "output_type": "stream",
     "text": [
      "100%|██████████| 499/499 [00:00<00:00, 16908.28it/s]\n",
      "100%|██████████| 456/456 [00:00<00:00, 16608.36it/s]\n",
      "100%|██████████| 510/510 [00:00<00:00, 17063.07it/s]\n"
     ]
    },
    {
     "name": "stdout",
     "output_type": "stream",
     "text": [
      "9\n"
     ]
    },
    {
     "name": "stderr",
     "output_type": "stream",
     "text": [
      "100%|██████████| 499/499 [00:00<00:00, 15556.28it/s]\n",
      "100%|██████████| 456/456 [00:00<00:00, 15841.46it/s]\n",
      "100%|██████████| 510/510 [00:00<00:00, 15190.28it/s]\n"
     ]
    },
    {
     "name": "stdout",
     "output_type": "stream",
     "text": [
      "10\n"
     ]
    },
    {
     "name": "stderr",
     "output_type": "stream",
     "text": [
      "100%|██████████| 499/499 [00:00<00:00, 14449.14it/s]\n",
      "100%|██████████| 457/457 [00:00<00:00, 13616.90it/s]\n",
      "100%|██████████| 511/511 [00:00<00:00, 14259.70it/s]\n"
     ]
    },
    {
     "name": "stdout",
     "output_type": "stream",
     "text": [
      "11\n"
     ]
    },
    {
     "name": "stderr",
     "output_type": "stream",
     "text": [
      "100%|██████████| 499/499 [00:00<00:00, 11701.78it/s]\n",
      "100%|██████████| 457/457 [00:00<00:00, 13940.24it/s]\n",
      "100%|██████████| 511/511 [00:00<00:00, 13184.04it/s]\n"
     ]
    },
    {
     "name": "stdout",
     "output_type": "stream",
     "text": [
      "12\n"
     ]
    },
    {
     "name": "stderr",
     "output_type": "stream",
     "text": [
      "100%|██████████| 499/499 [00:00<00:00, 10942.48it/s]\n",
      "100%|██████████| 457/457 [00:00<00:00, 12667.01it/s]\n",
      "100%|██████████| 511/511 [00:00<00:00, 12506.14it/s]"
     ]
    },
    {
     "name": "stdout",
     "output_type": "stream",
     "text": [
      "13"
     ]
    },
    {
     "name": "stderr",
     "output_type": "stream",
     "text": [
      "\n"
     ]
    },
    {
     "name": "stdout",
     "output_type": "stream",
     "text": [
      "\n"
     ]
    },
    {
     "name": "stderr",
     "output_type": "stream",
     "text": [
      "100%|██████████| 499/499 [00:00<00:00, 9126.64it/s]\n",
      "100%|██████████| 458/458 [00:00<00:00, 11884.97it/s]\n",
      "100%|██████████| 513/513 [00:00<00:00, 12213.71it/s]\n"
     ]
    },
    {
     "name": "stdout",
     "output_type": "stream",
     "text": [
      "14\n"
     ]
    },
    {
     "name": "stderr",
     "output_type": "stream",
     "text": [
      "100%|██████████| 499/499 [00:00<00:00, 9792.99it/s]\n",
      "100%|██████████| 458/458 [00:00<00:00, 10795.48it/s]\n",
      "100%|██████████| 513/513 [00:00<00:00, 11141.32it/s]\n"
     ]
    },
    {
     "name": "stdout",
     "output_type": "stream",
     "text": [
      "15\n"
     ]
    },
    {
     "name": "stderr",
     "output_type": "stream",
     "text": [
      "100%|██████████| 499/499 [00:00<00:00, 10847.77it/s]\n",
      "100%|██████████| 458/458 [00:00<00:00, 11078.57it/s]\n",
      "100%|██████████| 513/513 [00:00<00:00, 10200.62it/s]\n"
     ]
    },
    {
     "name": "stdout",
     "output_type": "stream",
     "text": [
      "16\n"
     ]
    },
    {
     "name": "stderr",
     "output_type": "stream",
     "text": [
      "100%|██████████| 499/499 [00:00<00:00, 10792.39it/s]\n",
      "100%|██████████| 458/458 [00:00<00:00, 10966.88it/s]\n",
      "100%|██████████| 513/513 [00:00<00:00, 10052.97it/s]\n"
     ]
    },
    {
     "name": "stdout",
     "output_type": "stream",
     "text": [
      "17\n"
     ]
    },
    {
     "name": "stderr",
     "output_type": "stream",
     "text": [
      "100%|██████████| 499/499 [00:00<00:00, 9150.62it/s]\n",
      "100%|██████████| 458/458 [00:00<00:00, 9447.93it/s]\n",
      "100%|██████████| 513/513 [00:00<00:00, 9506.86it/s]\n"
     ]
    },
    {
     "name": "stdout",
     "output_type": "stream",
     "text": [
      "18\n"
     ]
    },
    {
     "name": "stderr",
     "output_type": "stream",
     "text": [
      "100%|██████████| 499/499 [00:00<00:00, 9109.52it/s]\n",
      "100%|██████████| 458/458 [00:00<00:00, 9050.14it/s]\n",
      "100%|██████████| 513/513 [00:00<00:00, 8808.53it/s]\n"
     ]
    },
    {
     "name": "stdout",
     "output_type": "stream",
     "text": [
      "19\n"
     ]
    },
    {
     "name": "stderr",
     "output_type": "stream",
     "text": [
      "100%|██████████| 499/499 [00:00<00:00, 8622.33it/s]\n",
      "100%|██████████| 458/458 [00:00<00:00, 9003.14it/s]\n",
      "100%|██████████| 513/513 [00:00<00:00, 8603.65it/s]\n"
     ]
    },
    {
     "name": "stdout",
     "output_type": "stream",
     "text": [
      "20\n"
     ]
    },
    {
     "name": "stderr",
     "output_type": "stream",
     "text": [
      "100%|██████████| 499/499 [00:00<00:00, 8350.62it/s]\n",
      "100%|██████████| 458/458 [00:00<00:00, 8325.60it/s]\n",
      "100%|██████████| 513/513 [00:00<00:00, 8438.45it/s]\n"
     ]
    },
    {
     "name": "stdout",
     "output_type": "stream",
     "text": [
      "Data saved to data_files/ratios/ratio_N9_J20_L0.023_1_1_0_1_20250917_121628\n",
      "First 5 rows:\n",
      "Time_step\tFidelity\n",
      "1.0000\t0.5000\n",
      "2.0000\t0.5000\n",
      "3.0000\t0.8080\n",
      "4.0000\t0.8826\n",
      "5.0000\t0.9172\n",
      "1\n"
     ]
    },
    {
     "name": "stderr",
     "output_type": "stream",
     "text": [
      "100%|██████████| 499/499 [00:00<00:00, 28810.36it/s]\n",
      "100%|██████████| 498/498 [00:00<00:00, 29711.72it/s]\n",
      "100%|██████████| 557/557 [00:00<00:00, 30094.78it/s]\n"
     ]
    },
    {
     "name": "stdout",
     "output_type": "stream",
     "text": [
      "2\n"
     ]
    },
    {
     "name": "stderr",
     "output_type": "stream",
     "text": [
      "100%|██████████| 499/499 [00:00<00:00, 25083.09it/s]\n",
      "100%|██████████| 400/400 [00:00<00:00, 26818.66it/s]\n",
      "100%|██████████| 448/448 [00:00<00:00, 28957.44it/s]\n"
     ]
    },
    {
     "name": "stdout",
     "output_type": "stream",
     "text": [
      "3\n"
     ]
    },
    {
     "name": "stderr",
     "output_type": "stream",
     "text": [
      "100%|██████████| 499/499 [00:00<00:00, 24774.30it/s]\n",
      "100%|██████████| 445/445 [00:00<00:00, 19251.64it/s]\n",
      "100%|██████████| 498/498 [00:00<00:00, 25109.55it/s]\n"
     ]
    },
    {
     "name": "stdout",
     "output_type": "stream",
     "text": [
      "4\n"
     ]
    },
    {
     "name": "stderr",
     "output_type": "stream",
     "text": [
      "100%|██████████| 499/499 [00:00<00:00, 23573.06it/s]\n",
      "100%|██████████| 458/458 [00:00<00:00, 25238.67it/s]\n",
      "100%|██████████| 513/513 [00:00<00:00, 24215.06it/s]\n"
     ]
    },
    {
     "name": "stdout",
     "output_type": "stream",
     "text": [
      "5\n"
     ]
    },
    {
     "name": "stderr",
     "output_type": "stream",
     "text": [
      "100%|██████████| 499/499 [00:00<00:00, 17845.06it/s]\n",
      "100%|██████████| 463/463 [00:00<00:00, 19204.54it/s]\n",
      "100%|██████████| 518/518 [00:00<00:00, 22080.44it/s]\n"
     ]
    },
    {
     "name": "stdout",
     "output_type": "stream",
     "text": [
      "6\n"
     ]
    },
    {
     "name": "stderr",
     "output_type": "stream",
     "text": [
      "100%|██████████| 499/499 [00:00<00:00, 17219.33it/s]\n",
      "100%|██████████| 465/465 [00:00<00:00, 18490.60it/s]\n",
      "100%|██████████| 520/520 [00:00<00:00, 20339.43it/s]\n"
     ]
    },
    {
     "name": "stdout",
     "output_type": "stream",
     "text": [
      "7\n"
     ]
    },
    {
     "name": "stderr",
     "output_type": "stream",
     "text": [
      "100%|██████████| 499/499 [00:00<00:00, 16930.71it/s]\n",
      "100%|██████████| 466/466 [00:00<00:00, 8570.46it/s]\n",
      "100%|██████████| 522/522 [00:00<00:00, 19088.45it/s]\n"
     ]
    },
    {
     "name": "stdout",
     "output_type": "stream",
     "text": [
      "8\n"
     ]
    },
    {
     "name": "stderr",
     "output_type": "stream",
     "text": [
      "100%|██████████| 499/499 [00:00<00:00, 16310.46it/s]\n",
      "100%|██████████| 466/466 [00:00<00:00, 17543.72it/s]\n",
      "100%|██████████| 522/522 [00:00<00:00, 17709.22it/s]\n"
     ]
    },
    {
     "name": "stdout",
     "output_type": "stream",
     "text": [
      "9\n"
     ]
    },
    {
     "name": "stderr",
     "output_type": "stream",
     "text": [
      "100%|██████████| 499/499 [00:00<00:00, 14378.26it/s]\n",
      "100%|██████████| 466/466 [00:00<00:00, 15904.45it/s]\n",
      "100%|██████████| 522/522 [00:00<00:00, 15829.74it/s]\n"
     ]
    },
    {
     "name": "stdout",
     "output_type": "stream",
     "text": [
      "10\n"
     ]
    },
    {
     "name": "stderr",
     "output_type": "stream",
     "text": [
      "100%|██████████| 499/499 [00:00<00:00, 14367.11it/s]\n",
      "100%|██████████| 466/466 [00:00<00:00, 14398.66it/s]\n",
      "100%|██████████| 522/522 [00:00<00:00, 14433.85it/s]\n"
     ]
    },
    {
     "name": "stdout",
     "output_type": "stream",
     "text": [
      "11\n"
     ]
    },
    {
     "name": "stderr",
     "output_type": "stream",
     "text": [
      "100%|██████████| 499/499 [00:00<00:00, 13162.43it/s]\n",
      "100%|██████████| 445/445 [00:00<00:00, 13818.61it/s]\n",
      "100%|██████████| 498/498 [00:00<00:00, 13542.21it/s]\n"
     ]
    },
    {
     "name": "stdout",
     "output_type": "stream",
     "text": [
      "12\n"
     ]
    },
    {
     "name": "stderr",
     "output_type": "stream",
     "text": [
      "100%|██████████| 499/499 [00:00<00:00, 12171.05it/s]\n",
      "100%|██████████| 446/446 [00:00<00:00, 10563.21it/s]\n",
      "100%|██████████| 499/499 [00:00<00:00, 13931.50it/s]\n"
     ]
    },
    {
     "name": "stdout",
     "output_type": "stream",
     "text": [
      "13\n"
     ]
    },
    {
     "name": "stderr",
     "output_type": "stream",
     "text": [
      "100%|██████████| 499/499 [00:00<00:00, 12501.91it/s]\n",
      "100%|██████████| 465/465 [00:00<00:00, 12608.37it/s]\n",
      "100%|██████████| 520/520 [00:00<00:00, 11808.29it/s]"
     ]
    },
    {
     "name": "stdout",
     "output_type": "stream",
     "text": [
      "14"
     ]
    },
    {
     "name": "stderr",
     "output_type": "stream",
     "text": [
      "\n"
     ]
    },
    {
     "name": "stdout",
     "output_type": "stream",
     "text": [
      "\n"
     ]
    },
    {
     "name": "stderr",
     "output_type": "stream",
     "text": [
      "100%|██████████| 499/499 [00:00<00:00, 7194.32it/s]\n",
      "100%|██████████| 465/465 [00:00<00:00, 11976.81it/s]\n",
      "100%|██████████| 520/520 [00:00<00:00, 11095.48it/s]\n"
     ]
    },
    {
     "name": "stdout",
     "output_type": "stream",
     "text": [
      "15\n"
     ]
    },
    {
     "name": "stderr",
     "output_type": "stream",
     "text": [
      "100%|██████████| 499/499 [00:00<00:00, 10795.23it/s]\n",
      "100%|██████████| 449/449 [00:00<00:00, 10943.42it/s]\n",
      "100%|██████████| 503/503 [00:00<00:00, 10373.52it/s]\n"
     ]
    },
    {
     "name": "stdout",
     "output_type": "stream",
     "text": [
      "16\n"
     ]
    },
    {
     "name": "stderr",
     "output_type": "stream",
     "text": [
      "100%|██████████| 499/499 [00:00<00:00, 10990.64it/s]\n",
      "100%|██████████| 450/450 [00:00<00:00, 11378.81it/s]\n",
      "100%|██████████| 504/504 [00:00<00:00, 10195.37it/s]\n"
     ]
    },
    {
     "name": "stdout",
     "output_type": "stream",
     "text": [
      "17\n"
     ]
    },
    {
     "name": "stderr",
     "output_type": "stream",
     "text": [
      "100%|██████████| 499/499 [00:00<00:00, 10773.28it/s]\n",
      "100%|██████████| 464/464 [00:00<00:00, 10844.64it/s]\n",
      "100%|██████████| 519/519 [00:00<00:00, 10888.25it/s]\n"
     ]
    },
    {
     "name": "stdout",
     "output_type": "stream",
     "text": [
      "18\n"
     ]
    },
    {
     "name": "stderr",
     "output_type": "stream",
     "text": [
      "100%|██████████| 499/499 [00:00<00:00, 9089.90it/s]\n",
      "100%|██████████| 464/464 [00:00<00:00, 9429.15it/s]\n",
      "100%|██████████| 519/519 [00:00<00:00, 9355.89it/s]\n"
     ]
    },
    {
     "name": "stdout",
     "output_type": "stream",
     "text": [
      "19\n"
     ]
    },
    {
     "name": "stderr",
     "output_type": "stream",
     "text": [
      "100%|██████████| 499/499 [00:00<00:00, 8748.36it/s]\n",
      "100%|██████████| 464/464 [00:00<00:00, 8911.59it/s]\n",
      "100%|██████████| 519/519 [00:00<00:00, 9134.77it/s]\n"
     ]
    },
    {
     "name": "stdout",
     "output_type": "stream",
     "text": [
      "20\n"
     ]
    },
    {
     "name": "stderr",
     "output_type": "stream",
     "text": [
      "100%|██████████| 499/499 [00:00<00:00, 9394.90it/s]\n",
      "100%|██████████| 452/452 [00:00<00:00, 9505.98it/s]\n",
      "100%|██████████| 506/506 [00:00<00:00, 8993.14it/s]\n"
     ]
    },
    {
     "name": "stdout",
     "output_type": "stream",
     "text": [
      "Data saved to data_files/ratios/ratio_N9_J20_L0.023_11_1_00_1_20250917_121631\n",
      "First 5 rows:\n",
      "Time_step\tFidelity\n",
      "1.0000\t0.5000\n",
      "2.0000\t0.5652\n",
      "3.0000\t0.8635\n",
      "4.0000\t0.9339\n",
      "5.0000\t0.9604\n",
      "1\n"
     ]
    },
    {
     "name": "stderr",
     "output_type": "stream",
     "text": [
      "100%|██████████| 499/499 [00:00<00:00, 26837.95it/s]\n",
      "100%|██████████| 498/498 [00:00<00:00, 30647.70it/s]\n",
      "100%|██████████| 557/557 [00:00<00:00, 32768.46it/s]\n"
     ]
    },
    {
     "name": "stdout",
     "output_type": "stream",
     "text": [
      "2\n"
     ]
    },
    {
     "name": "stderr",
     "output_type": "stream",
     "text": [
      "100%|██████████| 499/499 [00:00<00:00, 26235.43it/s]\n",
      "100%|██████████| 498/498 [00:00<00:00, 27049.16it/s]\n",
      "100%|██████████| 557/557 [00:00<00:00, 29784.76it/s]\n"
     ]
    },
    {
     "name": "stdout",
     "output_type": "stream",
     "text": [
      "3\n"
     ]
    },
    {
     "name": "stderr",
     "output_type": "stream",
     "text": [
      "100%|██████████| 499/499 [00:00<00:00, 24353.42it/s]\n",
      "100%|██████████| 456/456 [00:00<00:00, 24679.06it/s]\n",
      "100%|██████████| 510/510 [00:00<00:00, 27205.60it/s]\n"
     ]
    },
    {
     "name": "stdout",
     "output_type": "stream",
     "text": [
      "4\n"
     ]
    },
    {
     "name": "stderr",
     "output_type": "stream",
     "text": [
      "100%|██████████| 499/499 [00:00<00:00, 12049.61it/s]\n",
      "100%|██████████| 462/462 [00:00<00:00, 21488.50it/s]\n",
      "100%|██████████| 517/517 [00:00<00:00, 23922.77it/s]\n"
     ]
    },
    {
     "name": "stdout",
     "output_type": "stream",
     "text": [
      "5\n"
     ]
    },
    {
     "name": "stderr",
     "output_type": "stream",
     "text": [
      "100%|██████████| 499/499 [00:00<00:00, 19193.70it/s]\n",
      "100%|██████████| 463/463 [00:00<00:00, 20536.61it/s]\n",
      "100%|██████████| 518/518 [00:00<00:00, 22821.23it/s]\n"
     ]
    },
    {
     "name": "stdout",
     "output_type": "stream",
     "text": [
      "6\n"
     ]
    },
    {
     "name": "stderr",
     "output_type": "stream",
     "text": [
      "100%|██████████| 499/499 [00:00<00:00, 18288.37it/s]\n",
      "100%|██████████| 464/464 [00:00<00:00, 18948.08it/s]\n",
      "100%|██████████| 519/519 [00:00<00:00, 20414.55it/s]\n"
     ]
    },
    {
     "name": "stdout",
     "output_type": "stream",
     "text": [
      "7\n"
     ]
    },
    {
     "name": "stderr",
     "output_type": "stream",
     "text": [
      "100%|██████████| 499/499 [00:00<00:00, 17212.96it/s]\n",
      "100%|██████████| 464/464 [00:00<00:00, 17864.65it/s]\n",
      "100%|██████████| 519/519 [00:00<00:00, 17387.49it/s]\n"
     ]
    },
    {
     "name": "stdout",
     "output_type": "stream",
     "text": [
      "8\n"
     ]
    },
    {
     "name": "stderr",
     "output_type": "stream",
     "text": [
      "100%|██████████| 499/499 [00:00<00:00, 16026.45it/s]\n",
      "100%|██████████| 463/463 [00:00<00:00, 16509.78it/s]\n",
      "100%|██████████| 518/518 [00:00<00:00, 17390.10it/s]\n"
     ]
    },
    {
     "name": "stdout",
     "output_type": "stream",
     "text": [
      "9\n"
     ]
    },
    {
     "name": "stderr",
     "output_type": "stream",
     "text": [
      "100%|██████████| 499/499 [00:00<00:00, 14773.26it/s]\n",
      "100%|██████████| 463/463 [00:00<00:00, 15210.80it/s]\n",
      "100%|██████████| 518/518 [00:00<00:00, 15301.43it/s]\n"
     ]
    },
    {
     "name": "stdout",
     "output_type": "stream",
     "text": [
      "10\n"
     ]
    },
    {
     "name": "stderr",
     "output_type": "stream",
     "text": [
      "100%|██████████| 499/499 [00:00<00:00, 14044.90it/s]\n",
      "100%|██████████| 463/463 [00:00<00:00, 11925.00it/s]\n",
      "100%|██████████| 518/518 [00:00<00:00, 14834.73it/s]\n"
     ]
    },
    {
     "name": "stdout",
     "output_type": "stream",
     "text": [
      "11\n"
     ]
    },
    {
     "name": "stderr",
     "output_type": "stream",
     "text": [
      "100%|██████████| 499/499 [00:00<00:00, 12982.96it/s]\n",
      "100%|██████████| 463/463 [00:00<00:00, 7698.20it/s]\n",
      "100%|██████████| 518/518 [00:00<00:00, 14712.47it/s]\n"
     ]
    },
    {
     "name": "stdout",
     "output_type": "stream",
     "text": [
      "12\n"
     ]
    },
    {
     "name": "stderr",
     "output_type": "stream",
     "text": [
      "100%|██████████| 499/499 [00:00<00:00, 12318.91it/s]\n",
      "100%|██████████| 464/464 [00:00<00:00, 12504.38it/s]\n",
      "100%|██████████| 519/519 [00:00<00:00, 13763.29it/s]\n"
     ]
    },
    {
     "name": "stdout",
     "output_type": "stream",
     "text": [
      "13\n"
     ]
    },
    {
     "name": "stderr",
     "output_type": "stream",
     "text": [
      "100%|██████████| 499/499 [00:00<00:00, 11968.17it/s]\n",
      "100%|██████████| 465/465 [00:00<00:00, 12270.99it/s]\n",
      "100%|██████████| 520/520 [00:00<00:00, 13894.53it/s]\n"
     ]
    },
    {
     "name": "stdout",
     "output_type": "stream",
     "text": [
      "14\n"
     ]
    },
    {
     "name": "stderr",
     "output_type": "stream",
     "text": [
      "100%|██████████| 499/499 [00:00<00:00, 6808.29it/s]\n",
      "100%|██████████| 465/465 [00:00<00:00, 11210.72it/s]\n",
      "100%|██████████| 520/520 [00:00<00:00, 12840.44it/s]\n"
     ]
    },
    {
     "name": "stdout",
     "output_type": "stream",
     "text": [
      "15\n"
     ]
    },
    {
     "name": "stderr",
     "output_type": "stream",
     "text": [
      "100%|██████████| 499/499 [00:00<00:00, 10983.20it/s]\n",
      "100%|██████████| 466/466 [00:00<00:00, 11180.97it/s]\n",
      "100%|██████████| 522/522 [00:00<00:00, 11251.25it/s]\n"
     ]
    },
    {
     "name": "stdout",
     "output_type": "stream",
     "text": [
      "16\n"
     ]
    },
    {
     "name": "stderr",
     "output_type": "stream",
     "text": [
      "100%|██████████| 499/499 [00:00<00:00, 10559.35it/s]\n",
      "100%|██████████| 465/465 [00:00<00:00, 10976.27it/s]\n",
      "100%|██████████| 520/520 [00:00<00:00, 12025.35it/s]\n"
     ]
    },
    {
     "name": "stdout",
     "output_type": "stream",
     "text": [
      "17\n"
     ]
    },
    {
     "name": "stderr",
     "output_type": "stream",
     "text": [
      "100%|██████████| 499/499 [00:00<00:00, 9448.12it/s]\n",
      "100%|██████████| 463/463 [00:00<00:00, 10011.61it/s]\n",
      "100%|██████████| 518/518 [00:00<00:00, 10673.58it/s]\n"
     ]
    },
    {
     "name": "stdout",
     "output_type": "stream",
     "text": [
      "18\n"
     ]
    },
    {
     "name": "stderr",
     "output_type": "stream",
     "text": [
      "100%|██████████| 499/499 [00:00<00:00, 8143.20it/s]\n",
      "100%|██████████| 462/462 [00:00<00:00, 9200.96it/s]\n",
      "100%|██████████| 517/517 [00:00<00:00, 9861.32it/s]\n"
     ]
    },
    {
     "name": "stdout",
     "output_type": "stream",
     "text": [
      "19\n"
     ]
    },
    {
     "name": "stderr",
     "output_type": "stream",
     "text": [
      "100%|██████████| 499/499 [00:00<00:00, 8758.39it/s]\n",
      "100%|██████████| 462/462 [00:00<00:00, 8726.41it/s]\n",
      "100%|██████████| 517/517 [00:00<00:00, 10392.29it/s]\n"
     ]
    },
    {
     "name": "stdout",
     "output_type": "stream",
     "text": [
      "20\n"
     ]
    },
    {
     "name": "stderr",
     "output_type": "stream",
     "text": [
      "100%|██████████| 499/499 [00:00<00:00, 8275.44it/s]\n",
      "100%|██████████| 462/462 [00:00<00:00, 9541.94it/s]\n",
      "100%|██████████| 517/517 [00:00<00:00, 9788.10it/s]"
     ]
    },
    {
     "name": "stdout",
     "output_type": "stream",
     "text": [
      "Data saved to data_files/ratios/ratio_N9_J20_L0.023_111_1_000_1_20250917_121635\n",
      "First 5 rows:\n",
      "Time_step\tFidelity\n",
      "1.0000\t0.5000\n",
      "2.0000\t0.5000\n",
      "3.0000\t0.7593\n",
      "4.0000\t0.8751\n",
      "5.0000\t0.9153\n"
     ]
    },
    {
     "name": "stderr",
     "output_type": "stream",
     "text": [
      "\n"
     ]
    }
   ],
   "source": [
    "#Constant simulation parameters\n",
    "N = 9\n",
    "lmd = 0.02272\n",
    "ti = 0\n",
    "tf = 150\n",
    "step_number = 500\n",
    "\n",
    "ratios = range(1,21) # will be used to calculate J accordingly\n",
    "\n",
    "\n",
    "# Generate initial and target statess\n",
    "# state_dictionary = {\"1\":1}\n",
    "# state_dictionary = {\"1\":1, \"0\":1}\n",
    "# state_dictionary = {\"11\":1, \"00\":1}\n",
    "# state_dictionary = {\"111\":1, \"000\":1}\n",
    "\n",
    "state_dictionaries = [{\"1\":1}, {\"1\":1, \"0\":1}, {\"11\":1, \"00\":1}, {\"111\":1, \"000\":1}]\n",
    "filenames = []\n",
    "for dictionary in state_dictionaries:\n",
    "\n",
    "    initial_system, final_system, register_size = initialize_system(dictionary, N)\n",
    "    maximum_fidelities = []\n",
    "\n",
    "    for ratio in ratios:\n",
    "        print(ratio)\n",
    "        J = ratio*lmd\n",
    "        H_transport, H_reset = build_hamiltonians(N, lmd, J, register_size)\n",
    "        total_full_fidelity, magnetizations = dyn.TwoStepAlgorithm(initial_system, final_system, H_transport, H_reset, \n",
    "                                                                   ti, tf, step_number, AutoSwitch=True)\n",
    "        maximum_fidelities.append(max(total_full_fidelity))\n",
    "\n",
    "    ratio_filename = dh.create_data_filename(N, f'{ratios[-1]}', lmd, dictionary, 'ratio')\n",
    "    dh.save_plot_data_to_csv(ratios, maximum_fidelities, f'data_files/ratios/{ratio_filename}')\n",
    "    filenames.append(ratio_filename)"
   ]
  },
  {
   "cell_type": "code",
   "execution_count": 5,
   "id": "c0ee6570",
   "metadata": {},
   "outputs": [],
   "source": [
    "ratios_1,    values_1,    recovered_filename = dh.read_plot_data_from_csv(f\"data_files/ratios/{filenames[0]}.csv\")\n",
    "ratios_plus, values_plus, recovered_filename = dh.read_plot_data_from_csv(f\"data_files/ratios/{filenames[1]}.csv\")\n",
    "ratios_bell, values_bell, recovered_filename = dh.read_plot_data_from_csv(f\"data_files/ratios/{filenames[2]}.csv\")\n",
    "ratios_ghz,  values_ghz,  recovered_filename = dh.read_plot_data_from_csv(f\"data_files/ratios/{filenames[3]}.csv\")\n",
    "\n",
    "log_ratios_1,    log_errors_1    =  calculate_logs(ratios_1, values_1)\n",
    "log_ratios_plus, log_errors_plus =  calculate_logs(ratios_plus, values_plus)\n",
    "log_ratios_bell, log_errors_bell =  calculate_logs(ratios_bell, values_bell)\n",
    "log_ratios_ghz,  log_errors_ghz  =  calculate_logs(ratios_ghz, values_ghz)"
   ]
  },
  {
   "cell_type": "code",
   "execution_count": null,
   "id": "aaf24406",
   "metadata": {},
   "outputs": [],
   "source": []
  }
 ],
 "metadata": {
  "kernelspec": {
   "display_name": ".venv",
   "language": "python",
   "name": "python3"
  },
  "language_info": {
   "codemirror_mode": {
    "name": "ipython",
    "version": 3
   },
   "file_extension": ".py",
   "mimetype": "text/x-python",
   "name": "python",
   "nbconvert_exporter": "python",
   "pygments_lexer": "ipython3",
   "version": "3.9.6"
  }
 },
 "nbformat": 4,
 "nbformat_minor": 5
}
