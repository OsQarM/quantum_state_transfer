{
 "cells": [
  {
   "cell_type": "code",
   "execution_count": 1,
   "id": "260b099c",
   "metadata": {},
   "outputs": [],
   "source": [
    "import qutip as qt\n",
    "import numpy as np\n",
    "\n",
    "# Tracking info of simulations \n",
    "import tqdm\n",
    "import time\n",
    "import warnings\n",
    "\n",
    "#Saving data\n",
    "import pandas as pd\n",
    "import json\n",
    "import os\n",
    "\n",
    "import matplotlib.pyplot as plt\n",
    "from IPython.display import Image\n",
    "from matplotlib.gridspec import GridSpec"
   ]
  },
  {
   "cell_type": "code",
   "execution_count": 2,
   "id": "3f5b670f",
   "metadata": {},
   "outputs": [],
   "source": [
    "import model_building as md\n",
    "import Hamiltonian as Ham\n",
    "import dynamics as dyn\n",
    "import data_handling as dh\n",
    "import plots as plots\n"
   ]
  },
  {
   "cell_type": "code",
   "execution_count": 3,
   "id": "c0f54b3a",
   "metadata": {},
   "outputs": [],
   "source": [
    "#Parameters\n",
    "\n",
    "N=10\n",
    "lmd = 0.02272\n",
    "J = 0.5\n",
    "state_dictionary = {\"001\":1}\n",
    "state_dictionary = {\"1\":1}\n",
    "\n",
    "\n",
    "ti = 0\n",
    "tf = 150\n",
    "\n",
    "Nsteps = 500"
   ]
  },
  {
   "cell_type": "code",
   "execution_count": 4,
   "id": "eb36a0c8",
   "metadata": {},
   "outputs": [],
   "source": [
    "\n",
    "initial_state = md.crate_domain_wall_state(state_dictionary, register='Alice')\n",
    "final_state   = md.crate_domain_wall_state(state_dictionary, register='Bob')\n",
    "\n",
    "initial_chain = md.initialize_general_system(N, initial_state, register='Alice')\n",
    "final_chain   = md.initialize_general_system(N, final_state, register='Bob')"
   ]
  },
  {
   "cell_type": "code",
   "execution_count": 5,
   "id": "206d8330",
   "metadata": {},
   "outputs": [],
   "source": [
    "#Create Hamiltonians\n",
    "register_size = len(initial_state.dims[0])\n",
    "\n",
    "\n",
    "H_transport = Ham.Hamiltonian(system_size = N,\n",
    "                     mode = \"forward\",\n",
    "                     lambda_factor = lmd,\n",
    "                     global_J = J\n",
    "                     )\n",
    "H_reset     = Ham.Hamiltonian(system_size = N,\n",
    "                     mode = \"backward\",\n",
    "                     lambda_factor = lmd,\n",
    "                     register_size = register_size,\n",
    "                     global_J = J\n",
    "                     )"
   ]
  },
  {
   "cell_type": "code",
   "execution_count": 6,
   "id": "28b51491",
   "metadata": {},
   "outputs": [
    {
     "name": "stderr",
     "output_type": "stream",
     "text": [
      "/Users/omichel/Desktop/qilimanjaro/projects/quantum_transport/.venv/lib/python3.9/site-packages/tqdm/auto.py:21: TqdmWarning: IProgress not found. Please update jupyter and ipywidgets. See https://ipywidgets.readthedocs.io/en/stable/user_install.html\n",
      "  from .autonotebook import tqdm as notebook_tqdm\n"
     ]
    },
    {
     "name": "stderr",
     "output_type": "stream",
     "text": [
      "100%|██████████| 499/499 [00:00<00:00, 4770.43it/s]\n",
      "100%|██████████| 459/459 [00:00<00:00, 5444.51it/s]\n",
      "100%|██████████| 514/514 [00:00<00:00, 4776.42it/s]\n"
     ]
    }
   ],
   "source": [
    "#Algorithm\n",
    "\n",
    "total_full_fidelity, magnetizations = dyn.TwoStepAlgorithm(initial_chain, final_chain, H_transport, H_reset, ti, tf, Nsteps, AutoSwitch=True)"
   ]
  },
  {
   "cell_type": "code",
   "execution_count": 7,
   "id": "2b1d6f18",
   "metadata": {},
   "outputs": [],
   "source": [
    "f_filename = dh.create_data_filename(N, J, lmd, state_dictionary, base_name='fidelity')\n",
    "z_filename = dh.create_data_filename(N, J, lmd, state_dictionary, base_name='z_expectation')\n",
    "\n",
    "f_data_directory = 'data_files/fidelity/'\n",
    "z_data_directory = 'data_files/z_expectation/'\n",
    "\n",
    "f_plot_directory = 'figures/fidelity/'\n",
    "z_plot_directory = 'figures/z_expectation/' \n"
   ]
  },
  {
   "cell_type": "code",
   "execution_count": 8,
   "id": "b677cdb5",
   "metadata": {},
   "outputs": [],
   "source": [
    "dh.save_numpy_array(total_full_fidelity, f'{f_data_directory}{f_filename}')\n",
    "dh.save_numpy_array(magnetizations, f'{z_data_directory}{z_filename}')"
   ]
  },
  {
   "cell_type": "code",
   "execution_count": null,
   "id": "3a976e10",
   "metadata": {},
   "outputs": [],
   "source": [
    "plots.plot_test_fidelity(total_full_fidelity, N, f'{f_plot_directory}{f_filename}')"
   ]
  },
  {
   "cell_type": "code",
   "execution_count": null,
   "id": "e90aeecf",
   "metadata": {},
   "outputs": [],
   "source": [
    "plots.plot_test_z_expectations(magnetizations, N, f'{z_plot_directory}{z_filename}')"
   ]
  },
  {
   "cell_type": "markdown",
   "id": "a1f06f35",
   "metadata": {},
   "source": [
    "## J vs lambda study"
   ]
  },
  {
   "cell_type": "code",
   "execution_count": null,
   "id": "6651a062",
   "metadata": {},
   "outputs": [],
   "source": [
    "def initialize_system(state_dictionary, N, lmd, J):\n",
    "    initial_state = md.crate_domain_wall_state(state_dictionary, register='Alice')\n",
    "    final_state   = md.crate_domain_wall_state(state_dictionary, register='Bob')\n",
    "\n",
    "    initial_chain = md.initialize_general_system(N, initial_state, register='Alice')\n",
    "    final_chain   = md.initialize_general_system(N, final_state, register='Bob')\n",
    "\n",
    "    register_size = len(initial_state.dims[0])\n",
    "    \n",
    "    return initial_chain, final_chain, register_size\n",
    "\n",
    "def build_hamiltonians(N, lmd, J, reg_size):\n",
    "\n",
    "    H_transport = Ham.Hamiltonian(system_size = N,\n",
    "                        mode = \"forward\",\n",
    "                        lambda_factor = lmd,\n",
    "                        global_J = J\n",
    "                        )\n",
    "    H_reset     = Ham.Hamiltonian(system_size = N,\n",
    "                        mode = \"backward\",\n",
    "                        lambda_factor = lmd,\n",
    "                        register_size = reg_size,\n",
    "                        global_J = J\n",
    "                        )\n",
    "    \n",
    "    return H_transport, H_reset"
   ]
  },
  {
   "cell_type": "code",
   "execution_count": 13,
   "id": "cac97c1f",
   "metadata": {},
   "outputs": [
    {
     "name": "stdout",
     "output_type": "stream",
     "text": [
      "1\n"
     ]
    },
    {
     "name": "stderr",
     "output_type": "stream",
     "text": [
      "100%|██████████| 499/499 [00:00<00:00, 12239.38it/s]\n",
      "100%|██████████| 490/490 [00:00<00:00, 16874.33it/s]\n",
      "100%|██████████| 548/548 [00:00<00:00, 21438.23it/s]\n"
     ]
    },
    {
     "name": "stdout",
     "output_type": "stream",
     "text": [
      "2\n"
     ]
    },
    {
     "name": "stderr",
     "output_type": "stream",
     "text": [
      "100%|██████████| 499/499 [00:00<00:00, 16360.82it/s]\n",
      "100%|██████████| 498/498 [00:00<00:00, 18339.86it/s]\n",
      "100%|██████████| 557/557 [00:00<00:00, 18404.04it/s]"
     ]
    },
    {
     "name": "stdout",
     "output_type": "stream",
     "text": [
      "3\n"
     ]
    },
    {
     "name": "stderr",
     "output_type": "stream",
     "text": [
      "\n",
      "100%|██████████| 499/499 [00:00<00:00, 16121.75it/s]\n",
      "100%|██████████| 484/484 [00:00<00:00, 17220.54it/s]\n",
      "100%|██████████| 542/542 [00:00<00:00, 16634.44it/s]\n"
     ]
    },
    {
     "name": "stdout",
     "output_type": "stream",
     "text": [
      "4\n"
     ]
    },
    {
     "name": "stderr",
     "output_type": "stream",
     "text": [
      "100%|██████████| 499/499 [00:00<00:00, 14507.93it/s]\n",
      "100%|██████████| 473/473 [00:00<00:00, 11309.27it/s]\n",
      "100%|██████████| 529/529 [00:00<00:00, 14857.78it/s]\n"
     ]
    },
    {
     "name": "stdout",
     "output_type": "stream",
     "text": [
      "5\n"
     ]
    },
    {
     "name": "stderr",
     "output_type": "stream",
     "text": [
      "100%|██████████| 499/499 [00:00<00:00, 11645.59it/s]\n",
      "100%|██████████| 463/463 [00:00<00:00, 14081.07it/s]\n",
      "100%|██████████| 518/518 [00:00<00:00, 12705.70it/s]\n"
     ]
    },
    {
     "name": "stdout",
     "output_type": "stream",
     "text": [
      "6\n"
     ]
    },
    {
     "name": "stderr",
     "output_type": "stream",
     "text": [
      "100%|██████████| 499/499 [00:00<00:00, 12133.16it/s]\n",
      "100%|██████████| 461/461 [00:00<00:00, 12306.51it/s]\n",
      "100%|██████████| 516/516 [00:00<00:00, 12014.79it/s]\n"
     ]
    },
    {
     "name": "stdout",
     "output_type": "stream",
     "text": [
      "7\n"
     ]
    },
    {
     "name": "stderr",
     "output_type": "stream",
     "text": [
      "100%|██████████| 499/499 [00:00<00:00, 11423.44it/s]\n",
      "100%|██████████| 461/461 [00:00<00:00, 11887.80it/s]\n",
      "100%|██████████| 516/516 [00:00<00:00, 11178.23it/s]\n"
     ]
    },
    {
     "name": "stdout",
     "output_type": "stream",
     "text": [
      "8\n"
     ]
    },
    {
     "name": "stderr",
     "output_type": "stream",
     "text": [
      "100%|██████████| 499/499 [00:00<00:00, 6767.54it/s]\n",
      "100%|██████████| 460/460 [00:00<00:00, 11156.61it/s]\n",
      "100%|██████████| 515/515 [00:00<00:00, 10245.68it/s]\n"
     ]
    },
    {
     "name": "stdout",
     "output_type": "stream",
     "text": [
      "9\n"
     ]
    },
    {
     "name": "stderr",
     "output_type": "stream",
     "text": [
      "100%|██████████| 499/499 [00:00<00:00, 9774.56it/s]\n",
      "100%|██████████| 460/460 [00:00<00:00, 10438.16it/s]\n",
      "100%|██████████| 515/515 [00:00<00:00, 9207.29it/s]\n"
     ]
    },
    {
     "name": "stdout",
     "output_type": "stream",
     "text": [
      "10\n"
     ]
    },
    {
     "name": "stderr",
     "output_type": "stream",
     "text": [
      "100%|██████████| 499/499 [00:00<00:00, 9057.87it/s]\n",
      "100%|██████████| 460/460 [00:00<00:00, 9423.93it/s]\n",
      "100%|██████████| 515/515 [00:00<00:00, 8484.49it/s]\n"
     ]
    },
    {
     "name": "stdout",
     "output_type": "stream",
     "text": [
      "11\n"
     ]
    },
    {
     "name": "stderr",
     "output_type": "stream",
     "text": [
      "100%|██████████| 499/499 [00:00<00:00, 5599.39it/s]\n",
      "100%|██████████| 460/460 [00:00<00:00, 9005.15it/s]\n",
      "100%|██████████| 515/515 [00:00<00:00, 8077.28it/s]\n"
     ]
    },
    {
     "name": "stdout",
     "output_type": "stream",
     "text": [
      "12\n"
     ]
    },
    {
     "name": "stderr",
     "output_type": "stream",
     "text": [
      "100%|██████████| 499/499 [00:00<00:00, 7377.28it/s]\n",
      "100%|██████████| 460/460 [00:00<00:00, 7836.86it/s]\n",
      "100%|██████████| 515/515 [00:00<00:00, 7643.79it/s]\n"
     ]
    },
    {
     "name": "stdout",
     "output_type": "stream",
     "text": [
      "13\n"
     ]
    },
    {
     "name": "stderr",
     "output_type": "stream",
     "text": [
      "100%|██████████| 499/499 [00:00<00:00, 7300.96it/s]\n",
      "100%|██████████| 460/460 [00:00<00:00, 7346.46it/s]\n",
      "100%|██████████| 515/515 [00:00<00:00, 5307.16it/s]\n"
     ]
    },
    {
     "name": "stdout",
     "output_type": "stream",
     "text": [
      "14\n"
     ]
    },
    {
     "name": "stderr",
     "output_type": "stream",
     "text": [
      "100%|██████████| 499/499 [00:00<00:00, 6592.84it/s]\n",
      "100%|██████████| 460/460 [00:00<00:00, 6924.67it/s]\n",
      "100%|██████████| 515/515 [00:00<00:00, 6563.46it/s]\n"
     ]
    },
    {
     "name": "stdout",
     "output_type": "stream",
     "text": [
      "15\n"
     ]
    },
    {
     "name": "stderr",
     "output_type": "stream",
     "text": [
      "100%|██████████| 499/499 [00:00<00:00, 5766.04it/s]\n",
      "100%|██████████| 460/460 [00:00<00:00, 6642.70it/s]\n",
      "100%|██████████| 515/515 [00:00<00:00, 4925.20it/s]\n"
     ]
    },
    {
     "name": "stdout",
     "output_type": "stream",
     "text": [
      "16\n"
     ]
    },
    {
     "name": "stderr",
     "output_type": "stream",
     "text": [
      "100%|██████████| 499/499 [00:00<00:00, 6027.08it/s]\n",
      "100%|██████████| 460/460 [00:00<00:00, 6301.02it/s]\n",
      "100%|██████████| 515/515 [00:00<00:00, 4549.39it/s]\n"
     ]
    },
    {
     "name": "stdout",
     "output_type": "stream",
     "text": [
      "17\n"
     ]
    },
    {
     "name": "stderr",
     "output_type": "stream",
     "text": [
      "100%|██████████| 499/499 [00:00<00:00, 5909.74it/s]\n",
      "100%|██████████| 459/459 [00:00<00:00, 5830.93it/s]\n",
      "100%|██████████| 514/514 [00:00<00:00, 5866.65it/s]\n"
     ]
    },
    {
     "name": "stdout",
     "output_type": "stream",
     "text": [
      "18\n"
     ]
    },
    {
     "name": "stderr",
     "output_type": "stream",
     "text": [
      "100%|██████████| 499/499 [00:00<00:00, 6144.93it/s]\n",
      "100%|██████████| 459/459 [00:00<00:00, 6341.09it/s]\n",
      "100%|██████████| 514/514 [00:00<00:00, 5616.58it/s]\n"
     ]
    },
    {
     "name": "stdout",
     "output_type": "stream",
     "text": [
      "19\n"
     ]
    },
    {
     "name": "stderr",
     "output_type": "stream",
     "text": [
      "100%|██████████| 499/499 [00:00<00:00, 5962.49it/s]\n",
      "100%|██████████| 459/459 [00:00<00:00, 5999.61it/s]\n",
      "100%|██████████| 514/514 [00:00<00:00, 5696.48it/s]\n"
     ]
    },
    {
     "name": "stdout",
     "output_type": "stream",
     "text": [
      "20\n"
     ]
    },
    {
     "name": "stderr",
     "output_type": "stream",
     "text": [
      "100%|██████████| 499/499 [00:00<00:00, 5750.44it/s]\n",
      "100%|██████████| 459/459 [00:00<00:00, 5687.81it/s]\n",
      "100%|██████████| 514/514 [00:00<00:00, 5024.98it/s]\n"
     ]
    }
   ],
   "source": [
    "#Constant simulation parameters\n",
    "N = 10\n",
    "lmd = 0.02272\n",
    "ti = 0\n",
    "tf = 150\n",
    "step_number = 500\n",
    "\n",
    "ratios = range(1,21) # will be used to calculate J accordingly\n",
    "\n",
    "\n",
    "# Generate initial and target statess\n",
    "state_dictionary = {\"1\":1}\n",
    "# state_dictionary = {\"1\":1, \"0\":1}\n",
    "# state_dictionary = {\"11\":1, \"00\":1}\n",
    "# state_dictionary = {\"111\":1, \"000\":1}\n",
    "\n",
    "initial_system, final_system, register_size = initialize_system(state_dictionary, N, lmd, J)\n",
    "maximum_fidelities = []\n",
    "\n",
    "for ratio in ratios:\n",
    "    print(ratio)\n",
    "    J = ratio*lmd\n",
    "    H_transport, H_reset = build_hamiltonians(N, lmd, J, register_size)\n",
    "    total_full_fidelity, magnetizations = dyn.TwoStepAlgorithm(initial_chain, final_chain, H_transport, H_reset, ti, tf, Nsteps, AutoSwitch=True)\n",
    "    maximum_fidelities.append(max(total_full_fidelity))"
   ]
  },
  {
   "cell_type": "code",
   "execution_count": 14,
   "id": "66a2e0c5",
   "metadata": {},
   "outputs": [
    {
     "data": {
      "image/png": "[encoded data removed]",
      "text/plain": [
       "<Figure size 640x480 with 1 Axes>"
      ]
     },
     "metadata": {},
     "output_type": "display_data"
    }
   ],
   "source": [
    "plt.plot(ratios, maximum_fidelities)\n",
    "plt.show()"
   ]
  },
  {
   "cell_type": "code",
   "execution_count": null,
   "id": "27869b95",
   "metadata": {},
   "outputs": [],
   "source": []
  }
 ],
 "metadata": {
  "kernelspec": {
   "display_name": ".venv",
   "language": "python",
   "name": "python3"
  },
  "language_info": {
   "codemirror_mode": {
    "name": "ipython",
    "version": 3
   },
   "file_extension": ".py",
   "mimetype": "text/x-python",
   "name": "python",
   "nbconvert_exporter": "python",
   "pygments_lexer": "ipython3",
   "version": "3.9.6"
  }
 },
 "nbformat": 4,
 "nbformat_minor": 5
}
